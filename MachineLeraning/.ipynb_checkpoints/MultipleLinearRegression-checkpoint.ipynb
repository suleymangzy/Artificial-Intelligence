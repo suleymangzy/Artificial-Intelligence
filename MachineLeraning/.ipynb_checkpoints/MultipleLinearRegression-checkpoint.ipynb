{
 "cells": [
  {
   "metadata": {},
   "cell_type": "markdown",
   "source": [
    "# Çok Özellikli Lineer Regresyon\n",
    "Tek özellikli lineer regresyonun aksine çok özellikli lineer resyonda hedef değeri etkileyen birden fazla etmen vardır.\n",
    "- Lineer Regresyon:\n",
    "$$ f(x^i) = wx^i+b = ŷ$$ \n",
    "- $i$: Giriş indexi\n",
    "- Çok Özellikli Lineer Regresyon:\n",
    "$$ f(x)= \\sum(w_jx_j) + b = w_1x_1 + w_2x_2 + w_3x_3 + ... + w_nx_n + b = ŷ $$ \n",
    "- $j$: Özellik indexi\n",
    "- $n$: Özellik sayısı"
   ],
   "id": "a01a8e027ec76f05"
  },
  {
   "metadata": {
    "ExecuteTime": {
     "end_time": "2024-11-18T10:46:55.852960Z",
     "start_time": "2024-11-18T10:46:55.828365Z"
    }
   },
   "cell_type": "code",
   "source": [
    "import numpy as np\n",
    "import matplotlib.pyplot as plt\n",
    "import pandas as pd\n",
    "\n",
    "veriler = pd.read_csv('houses.txt')\n",
    "print(veriler)"
   ],
   "id": "f55e22caa3b94d0f",
   "outputs": [
    {
     "name": "stdout",
     "output_type": "stream",
     "text": [
      "    9.520000000000000000e+02  2.000000000000000000e+00  \\\n",
      "0                     1244.0                       3.0   \n",
      "1                     1947.0                       3.0   \n",
      "2                     1725.0                       3.0   \n",
      "3                     1959.0                       3.0   \n",
      "4                     1314.0                       2.0   \n",
      "..                       ...                       ...   \n",
      "94                    1224.0                       2.0   \n",
      "95                    1432.0                       2.0   \n",
      "96                    1660.0                       3.0   \n",
      "97                    1212.0                       3.0   \n",
      "98                    1050.0                       2.0   \n",
      "\n",
      "    1.000000000000000000e+00  6.500000000000000000e+01  \\\n",
      "0                        1.0                      64.0   \n",
      "1                        2.0                      17.0   \n",
      "2                        2.0                      42.0   \n",
      "3                        2.0                      15.0   \n",
      "4                        1.0                      14.0   \n",
      "..                       ...                       ...   \n",
      "94                       2.0                      12.0   \n",
      "95                       1.0                      43.0   \n",
      "96                       2.0                      19.0   \n",
      "97                       1.0                      20.0   \n",
      "98                       1.0                      65.0   \n",
      "\n",
      "    2.715000000000000000e+02  \n",
      "0                      300.0  \n",
      "1                      509.8  \n",
      "2                      394.0  \n",
      "3                      540.0  \n",
      "4                      415.0  \n",
      "..                       ...  \n",
      "94                     329.0  \n",
      "95                     388.0  \n",
      "96                     390.0  \n",
      "97                     356.0  \n",
      "98                     257.8  \n",
      "\n",
      "[99 rows x 5 columns]\n"
     ]
    }
   ],
   "execution_count": 2
  }
 ],
 "metadata": {
  "kernelspec": {
   "display_name": "Python 3",
   "language": "python",
   "name": "python3"
  },
  "language_info": {
   "codemirror_mode": {
    "name": "ipython",
    "version": 2
   },
   "file_extension": ".py",
   "mimetype": "text/x-python",
   "name": "python",
   "nbconvert_exporter": "python",
   "pygments_lexer": "ipython2",
   "version": "2.7.6"
  }
 },
 "nbformat": 4,
 "nbformat_minor": 5
}
