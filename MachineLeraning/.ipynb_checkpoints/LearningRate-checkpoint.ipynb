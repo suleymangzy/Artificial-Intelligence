{
 "cells": [
  {
   "metadata": {},
   "cell_type": "markdown",
   "source": [
    "# Öğrenme Orannı\n",
    "Öğerenme oranı gradyan inişi algoritmasının uygun parametreleri elde etme hzını ve optimum değerlere ulaşabilmesi açısından önem arzeden bir değerdir. Konuyu daha iyi pekiştirebilmek için bir örenke üzerinden gitmenin daha sağlıklı olacağı görüşündeyim.\n"
   ],
   "id": "1ed080c84d70dad0"
  },
  {
   "metadata": {
    "ExecuteTime": {
     "end_time": "2024-11-22T13:34:48.767478Z",
     "start_time": "2024-11-22T13:34:48.759708Z"
    }
   },
   "cell_type": "code",
   "source": [
    "import numpy as np\n",
    "import matplotlib.pyplot as plt\n",
    "import pandas as pd"
   ],
   "id": "5f5e34802a4c1829",
   "outputs": [],
   "execution_count": 18
  },
  {
   "metadata": {},
   "cell_type": "markdown",
   "source": [
    "## Problem Durumu\n",
    "Eğitim veri seti, aşağıdaki tabloda gösterilen 4 özellikten (boyut, yatak odası sayısı, kat sayısı ve yaş) oluşan birçok örnek içermektedir.\n",
    "Bu değerleri kullanarak bir lineer regresyon modeli oluşturmak istiyoruz, böylece başka evlerin fiyatını tahmin edebiliriz. Örneğin: 1200 sqft, 3 yatak odası, 1 katlı ve 40 yıllık bir evin fiyatını tahmin edebiliriz.\n",
    "###  Dataset: \n",
    "| Size (sqft) | Number of Bedrooms  | Number of floors | Age of  Home | Price (1000s dollars)  |   \n",
    "| ----------------| ------------------- |----------------- |--------------|----------------------- |  \n",
    "| 952             | 2                   | 1                | 65           | 271.5                  |  \n",
    "| 1244            | 3                   | 2                | 64           | 232                    |  \n",
    "| 1947            | 3                   | 2                | 17           | 509.8                  |  \n",
    "| ...             | ...                 | ...              | ...          | ...                    |\n"
   ],
   "id": "eab05150783d578d"
  },
  {
   "metadata": {
    "ExecuteTime": {
     "end_time": "2024-11-22T13:34:43.979051Z",
     "start_time": "2024-11-22T13:34:43.965525Z"
    }
   },
   "cell_type": "code",
   "source": [
    "veriler= pd.read_csv(\"houses.csv\")\n",
    "X_train = veriler[['size(sqft)', 'bedrooms', 'floors', 'age']]\n",
    "y_train = veriler['price(1000s dollars)']\n",
    "print(X_train,y_train)\n"
   ],
   "id": "2a9ffaac98bc3e65",
   "outputs": [
    {
     "name": "stdout",
     "output_type": "stream",
     "text": [
      "    size(sqft)  bedrooms  floors   age\n",
      "0        952.0       2.0     1.0  65.0\n",
      "1       1244.0       3.0     1.0  64.0\n",
      "2       1947.0       3.0     2.0  17.0\n",
      "3       1725.0       3.0     2.0  42.0\n",
      "4       1959.0       3.0     2.0  15.0\n",
      "..         ...       ...     ...   ...\n",
      "95      1224.0       2.0     2.0  12.0\n",
      "96      1432.0       2.0     1.0  43.0\n",
      "97      1660.0       3.0     2.0  19.0\n",
      "98      1212.0       3.0     1.0  20.0\n",
      "99      1050.0       2.0     1.0  65.0\n",
      "\n",
      "[100 rows x 4 columns] 0     271.5\n",
      "1     300.0\n",
      "2     509.8\n",
      "3     394.0\n",
      "4     540.0\n",
      "      ...  \n",
      "95    329.0\n",
      "96    388.0\n",
      "97    390.0\n",
      "98    356.0\n",
      "99    257.8\n",
      "Name: price(1000s dollars), Length: 100, dtype: float64\n"
     ]
    }
   ],
   "execution_count": 17
  },
  {
   "metadata": {},
   "cell_type": "code",
   "outputs": [],
   "execution_count": null,
   "source": "",
   "id": "a14db70fcc5b5895"
  }
 ],
 "metadata": {
  "kernelspec": {
   "display_name": "Python 3",
   "language": "python",
   "name": "python3"
  },
  "language_info": {
   "codemirror_mode": {
    "name": "ipython",
    "version": 2
   },
   "file_extension": ".py",
   "mimetype": "text/x-python",
   "name": "python",
   "nbconvert_exporter": "python",
   "pygments_lexer": "ipython2",
   "version": "2.7.6"
  }
 },
 "nbformat": 4,
 "nbformat_minor": 5
}
