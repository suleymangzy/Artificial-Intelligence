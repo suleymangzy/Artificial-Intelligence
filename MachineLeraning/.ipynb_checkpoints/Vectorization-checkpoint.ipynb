{
 "cells": [
  {
   "metadata": {},
   "cell_type": "markdown",
   "source": [
    "# Vektörleştirme \n",
    "<img align=\"right\" src=\"./Vectors.PNG\" style=\"width:340px;\" > Vektörler sıralı sayı dizileridir. Bir vektörün elemanları tamamen aynı türde olmalıdır. Örneğin bir vektörün elemanları arasında hem sayılar hem de metinsel ifadeler yer alamaz. Bir vektörün (dizi) eleman sayısı boyut olarak adlandırılır.  Gösterilen vektörün bir boyutu 𝑛’dir. Bir vektörün elemanları bir indeksle referans alınabilir. Matematik ortamlarında indeksler genellikle 1’den n’e kadar gider. Bilgisayar bilimlerinde ve bu laboratuvarlarda, indeksleme genellikle 0’dan n-1’e kadar gider. Notasyonda, bir vektörün elemanları, bireysel olarak referans alındığında, alt simge ile indeksi gösterecektir; örneğin, vektör 𝐱’in 0𝑡ℎ elemanı 𝑥0’dır. "
   ],
   "id": "830aa4e22cd8301d"
  },
  {
   "metadata": {},
   "cell_type": "markdown",
   "source": [
    "## Neden Vektörleştirme ?\n",
    "Vektörleştirmenin kullanılmasının sebebi biraz sonra kodlara dikkat ettiğinizde fark edeceğiniz gibi zamandan tasarruf etmektir. Bunu yaparken kendi kodumuzun çalışama zamanı ile NumPy kütüphanesinde bulunan hazır kodların çalışma zamanını kıyaslayacağız."
   ],
   "id": "46cd5e4855d06c3f"
  },
  {
   "metadata": {},
   "cell_type": "markdown",
   "source": "## Vektör Oluşturma",
   "id": "b791f90a1bf6896b"
  },
  {
   "metadata": {
    "ExecuteTime": {
     "end_time": "2024-11-19T17:51:52.111387Z",
     "start_time": "2024-11-19T17:51:52.072744Z"
    }
   },
   "cell_type": "code",
   "source": [
    "import numpy as np\n",
    "\n",
    "a = np.zeros(5);                print(f\"np.zeros(5) :               a = {a}, a shape = {a.shape}, a data type = {a.dtype}\")\n",
    "a = np.zeros((4,));             print(f\"np.zeros((4,)) :            a = {a}, a shape = {a.shape}, a data type = {a.dtype}\")\n",
    "a = np.random.random_sample(4); print(f\"np.random.random_sample(4): a = {a}, a shape = {a.shape}, a data type = {a.dtype}\")\n",
    "a = np.arange(4);               print(f\"np.arange(4):               a = {a}, a shape = {a.shape}, a data type = {a.dtype}\")\n",
    "a = np.random.rand(4);          print(f\"np.random.rand(4):          a = {a}, a shape = {a.shape}, a data type = {a.dtype}\")\n",
    "a = np.array([5,4,3,2]);        print(f\"np.array([5,4,3,2]):        a = {a}, a shape = {a.shape}, a data type = {a.dtype}\")\n",
    "a = np.array([5.,4,3,2]);       print(f\"np.array([5.,4,3,2]):       a = {a}, a shape = {a.shape}, a data type = {a.dtype}\")"
   ],
   "id": "f55e22caa3b94d0f",
   "outputs": [
    {
     "name": "stdout",
     "output_type": "stream",
     "text": [
      "np.zeros(5) :               a = [0. 0. 0. 0. 0.], a shape = (5,), a data type = float64\n",
      "np.zeros((4,)) :            a = [0. 0. 0. 0.], a shape = (4,), a data type = float64\n",
      "np.random.random_sample(4): a = [0.89743996 0.12518353 0.64711933 0.95579035], a shape = (4,), a data type = float64\n",
      "np.arange(4):               a = [0 1 2 3], a shape = (4,), a data type = int32\n",
      "np.random.rand(4):          a = [0.82233092 0.61940761 0.09573323 0.2305504 ], a shape = (4,), a data type = float64\n",
      "np.array([5,4,3,2]):        a = [5 4 3 2], a shape = (4,), a data type = int32\n",
      "np.array([5.,4,3,2]):       a = [5. 4. 3. 2.], a shape = (4,), a data type = float64\n"
     ]
    }
   ],
   "execution_count": 21
  },
  {
   "metadata": {},
   "cell_type": "markdown",
   "source": "Bir vektörde bulunan elemanı çağırırken vektörürn boyutu göz önünde bulundurulmalıdır. Aksi taktirde elemanı çağırmak için girmiş olduğunuz index değerine ait bir eleman bulunmayabilir.",
   "id": "72afb9530205d11e"
  },
  {
   "metadata": {
    "ExecuteTime": {
     "end_time": "2024-11-19T17:09:01.374161Z",
     "start_time": "2024-11-19T17:09:01.368118Z"
    }
   },
   "cell_type": "code",
   "source": [
    "a = np.arange(10)\n",
    "print(a)\n",
    "print(f\"a[5].shape: {a[5].shape} a[5]  = {a[5]}\")\n",
    "print(f\"a[-2] = {a[-2]}\")\n",
    "\n",
    "try:\n",
    "    c = a[10]\n",
    "except Exception as e:\n",
    "    print(\"The error message you'll see is:\")\n",
    "    print(e)"
   ],
   "id": "65bd379dec617623",
   "outputs": [
    {
     "name": "stdout",
     "output_type": "stream",
     "text": [
      "[0 1 2 3 4 5 6 7 8 9]\n",
      "a[5].shape: () a[5]  = 5\n",
      "a[-2] = 8\n",
      "The error message you'll see is:\n",
      "index 10 is out of bounds for axis 0 with size 10\n"
     ]
    }
   ],
   "execution_count": 13
  },
  {
   "metadata": {},
   "cell_type": "markdown",
   "source": "Vektörler de bulunan belirli index aralığındaki elemanları çağırarak işlem yapabilmekteyiz.",
   "id": "83167b444ae5c632"
  },
  {
   "metadata": {
    "ExecuteTime": {
     "end_time": "2024-11-19T17:11:59.023841Z",
     "start_time": "2024-11-19T17:11:59.014717Z"
    }
   },
   "cell_type": "code",
   "source": [
    "a = np.arange(10)\n",
    "print(f\"a        =  {a}\")\n",
    "c = a[2:7:1];     print(\"a[2:7:1] = \", c)\n",
    "c = a[2:7:2];     print(\"a[2:7:2] = \", c)\n",
    "c = a[3:];        print(\"a[3:]    = \", c)\n",
    "c = a[:3];        print(\"a[:3]    = \", c)\n",
    "c = a[:];         print(\"a[:]     = \", c)"
   ],
   "id": "1c65fa0a01215f7a",
   "outputs": [
    {
     "name": "stdout",
     "output_type": "stream",
     "text": [
      "a        =  [0 1 2 3 4 5 6 7 8 9]\n",
      "a[2:7:1] =  [2 3 4 5 6]\n",
      "a[2:7:2] =  [2 4 6]\n",
      "a[3:]    =  [3 4 5 6 7 8 9]\n",
      "a[:3]    =  [0 1 2]\n",
      "a[:]     =  [0 1 2 3 4 5 6 7 8 9]\n"
     ]
    }
   ],
   "execution_count": 16
  },
  {
   "metadata": {},
   "cell_type": "markdown",
   "source": "Vektörlerle çeşitli matematiksel işlemler dahilinde hesaplamalar yapılabilmektedir.",
   "id": "3b7dcd980fc85ca3"
  },
  {
   "metadata": {
    "ExecuteTime": {
     "end_time": "2024-11-19T17:13:46.196004Z",
     "start_time": "2024-11-19T17:13:46.176380Z"
    }
   },
   "cell_type": "code",
   "source": [
    "a = np.array([1,2,3,4])\n",
    "print(f\"a             : {a}\")\n",
    "b = -a \n",
    "print(f\"b = -a        : {b}\")\n",
    "b = np.sum(a) \n",
    "print(f\"b = np.sum(a) : {b}\")\n",
    "b = np.mean(a)\n",
    "print(f\"b = np.mean(a): {b}\")\n",
    "b = a**2\n",
    "print(f\"b = a**2      : {b}\")"
   ],
   "id": "8652910634685b6",
   "outputs": [
    {
     "name": "stdout",
     "output_type": "stream",
     "text": [
      "a             : [1 2 3 4]\n",
      "b = -a        : [-1 -2 -3 -4]\n",
      "b = np.sum(a) : 10\n",
      "b = np.mean(a): 2.5\n",
      "b = a**2      : [ 1  4  9 16]\n"
     ]
    }
   ],
   "execution_count": 17
  },
  {
   "metadata": {},
   "cell_type": "markdown",
   "source": "İki vektörün skaler toplamı için vektörlerin boyutunun aynı olması gerekmektedir.",
   "id": "36f77f73f883e12e"
  },
  {
   "metadata": {
    "ExecuteTime": {
     "end_time": "2024-11-19T17:43:24.422593Z",
     "start_time": "2024-11-19T17:43:24.412882Z"
    }
   },
   "cell_type": "code",
   "source": [
    "a = np.array([ 1, 2, 3, 4])\n",
    "b = np.array([-1,-2, 3, 4])\n",
    "print(f\"Binary operators work element wise: {a + b}\")\n",
    "c = np.array([1, 2])\n",
    "try:\n",
    "    d = a + c\n",
    "except Exception as e:\n",
    "    print(\"The error message you'll see is:\")\n",
    "    print(e)"
   ],
   "id": "a7defc4f6f3d3fb0",
   "outputs": [
    {
     "name": "stdout",
     "output_type": "stream",
     "text": [
      "Binary operators work element wise: [0 0 6 8]\n",
      "The error message you'll see is:\n",
      "operands could not be broadcast together with shapes (4,) (2,) \n"
     ]
    }
   ],
   "execution_count": 19
  },
  {
   "metadata": {},
   "cell_type": "markdown",
   "source": "Bir vektörle bir sayının skaler çarpımıda mümkündür.",
   "id": "147550d50dcf1252"
  },
  {
   "metadata": {
    "ExecuteTime": {
     "end_time": "2024-11-19T17:43:57.185845Z",
     "start_time": "2024-11-19T17:43:57.175423Z"
    }
   },
   "cell_type": "code",
   "source": [
    "a = np.array([1, 2, 3, 4])\n",
    "b = 5 * a \n",
    "print(f\"b = 5 * a : {b}\")"
   ],
   "id": "1cd12c370e60809f",
   "outputs": [
    {
     "name": "stdout",
     "output_type": "stream",
     "text": [
      "b = 5 * a : [ 5 10 15 20]\n"
     ]
    }
   ],
   "execution_count": 20
  },
  {
   "metadata": {},
   "cell_type": "markdown",
   "source": [
    "İki vektör arasında vektörel çarpım yapmakta mümkündür. Ve toplama işleminde olduğu gibi tüm vektörel işlemler için vektörlerin boyutları aynı olmalıdır. (Tek boyutlu vektörler... Matrislerler ve Tensörler hariçtir.) $ x= \\sum(a^ib^i) $\n",
    "<img src=\"./dot_notrans.gif\" width=800>"
   ],
   "id": "e0eaa57003327ac0"
  },
  {
   "metadata": {
    "ExecuteTime": {
     "end_time": "2024-11-19T18:01:15.514851Z",
     "start_time": "2024-11-19T18:01:15.502663Z"
    }
   },
   "cell_type": "code",
   "outputs": [],
   "execution_count": 24,
   "source": [
    "def my_dot(a,b):\n",
    "    x = 0\n",
    "    for i in range(a.shape[0]): \n",
    "        x += a[i] * b[i]\n",
    "    return x   "
   ],
   "id": "6e4e389daf9c9179"
  },
  {
   "metadata": {
    "ExecuteTime": {
     "end_time": "2024-11-19T18:01:16.655890Z",
     "start_time": "2024-11-19T18:01:16.651169Z"
    }
   },
   "cell_type": "code",
   "source": [
    "a = np.array([1,2,3,4])\n",
    "b = np.array([-1,-2, 3, 4])\n",
    "print(f\"my_dot(a,b) = {my_dot(a,b)}\")"
   ],
   "id": "b04dfd2d42f739f2",
   "outputs": [
    {
     "name": "stdout",
     "output_type": "stream",
     "text": [
      "my_dot(a,b) = 20\n"
     ]
    }
   ],
   "execution_count": 25
  },
  {
   "metadata": {},
   "cell_type": "markdown",
   "source": "NumPy kütüphanesinin hazır kodlarından biri olana  ve yukarıda yazdığımız fonksiyonu oluşturmamıza lüzüm bırakmayan `np.dot` ifadesi bulunmaktadır. Bu yukarıda yazmış olduğumuz fonksiyon ile birebir aynı işlevi gerçekleştirir. Fakat NumPy kütüphanesinin ayrıcalıklı tarafı bu ifade kullanıldığı takdirde cihaz donanımı daha optimize bir biçimde kullanılmış ve zamandan tasarruf edilicektir. NumPy kütüphanesinin bu özelliğe sahip olmasını sağlayan şey her ifadenin biraz önce bizim yazmış olduğumuz gibi yalnızca işlem odaklı değil aynı zamanda cihaz özelliklerinin optimize bir biçimde kullanılarak daha verimli ve hızlı sonuç almamızı sağlayan kodlar bütününden oluşmasıdır.",
   "id": "ded506f4597fea8c"
  },
  {
   "metadata": {
    "ExecuteTime": {
     "end_time": "2024-11-19T18:14:19.878244Z",
     "start_time": "2024-11-19T18:14:19.841738Z"
    }
   },
   "cell_type": "code",
   "source": [
    "a = np.array([1,2,3,4])\n",
    "b = np.array([-1,-2, 3, 4])\n",
    "c = np.dot(a,b)\n",
    "print(f\"c = {c}\")"
   ],
   "id": "d7dea9a31d0d0782",
   "outputs": [
    {
     "name": "stdout",
     "output_type": "stream",
     "text": [
      "c = 20\n"
     ]
    }
   ],
   "execution_count": 26
  },
  {
   "metadata": {},
   "cell_type": "markdown",
   "source": "Bu kadar az sayıda veriye sahip olan vektörlerle işlem yapıldığında elbette bizim yazmış olduğumuz fonksiyon ile NumPy kütüphanesinin ifadesin sonuç verme hızı arasındaki fark kayda değer ölçekte olmayacaktır. Ancak bu elemanların sayısının yüksek oldukları vektörler ile işlem yapılırken ;",
   "id": "e9cd17cee9ff9b71"
  },
  {
   "metadata": {
    "ExecuteTime": {
     "end_time": "2024-11-19T18:21:06.652760Z",
     "start_time": "2024-11-19T18:21:03.696814Z"
    }
   },
   "cell_type": "code",
   "source": [
    "import time\n",
    "\n",
    "np.random.seed(1)\n",
    "a = np.random.rand(10000000)  # very large arrays\n",
    "b = np.random.rand(10000000)\n",
    "\n",
    "tic = time.time()  # capture start time\n",
    "c = np.dot(a, b)\n",
    "toc = time.time()  # capture end time\n",
    "\n",
    "print(f\"np.dot(a, b) =  {c:.4f}\")\n",
    "print(f\"Vectorized version duration: {1000*(toc-tic):.4f} ms \")\n",
    "\n",
    "tic = time.time()  # capture start time\n",
    "c = my_dot(a,b)\n",
    "toc = time.time()  # capture end time\n",
    "\n",
    "print(f\"my_dot(a, b) =  {c:.4f}\")\n",
    "print(f\"loop version duration: {1000*(toc-tic):.4f} ms \")\n",
    "\n",
    "del(a);del(b)  #remove these big arrays from memory"
   ],
   "id": "b30abd1c0243d9c9",
   "outputs": [
    {
     "name": "stdout",
     "output_type": "stream",
     "text": [
      "np.dot(a, b) =  2501072.5817\n",
      "Vectorized version duration: 481.7770 ms \n",
      "my_dot(a, b) =  2501072.5817\n",
      "loop version duration: 2285.3279 ms \n"
     ]
    }
   ],
   "execution_count": 27
  },
  {
   "metadata": {},
   "cell_type": "markdown",
   "source": "Görmüş olduğunuz gibi iki fonksiyon arasındaki hesaplama bu örnek için hızı 5 kattan fazla bulunmakta.",
   "id": "e66ac8ce2106144a"
  },
  {
   "metadata": {},
   "cell_type": "markdown",
   "source": [
    "## Matrisler\n",
    "Matrisler, iki boyutlu dizilerdir. Bir matrisin elemanları aynı türdedir.m genellikle satır sayısını, n ise sütun sayısını ifade ederBir matrisin elemanlarına iki boyutlu bir indeksle erişilebilir. Matematiksel bağlamlarda indeks numaraları genellikle 1'den n'e kadar giderken, bilgisayar biliminde0'dan n-1'e kadar olacaktır.<center> <img src=\"./Matrices.PNG\"  alt='missing'  width=900><center/>"
   ],
   "id": "1e0b317e9b55bbe6"
  },
  {
   "metadata": {},
   "cell_type": "markdown",
   "source": "### Matris Oluşturma",
   "id": "2ab6221a5de1d4af"
  },
  {
   "metadata": {
    "ExecuteTime": {
     "end_time": "2024-11-20T07:50:21.007455Z",
     "start_time": "2024-11-20T07:50:21.001597Z"
    }
   },
   "cell_type": "code",
   "source": [
    "import numpy as np\n",
    "a = np.zeros((1, 5))                                       \n",
    "print(f\"a shape = {a.shape}, a = {a}\")                     \n",
    "a = np.zeros((2, 1))                                                 \n",
    "print(f\"a shape = {a.shape}, a = {a}\") \n",
    "a = np.random.random_sample((1, 1))  \n",
    "print(f\"a shape = {a.shape}, a = {a}\") \n",
    "a = np.array([[5], [4], [3]]);   print(f\"a shape = {a.shape}, np.array: a = {a}\")\n",
    "a = np.array([[5], \n",
    "              [4],   \n",
    "              [3]]); print(f\"a shape = {a.shape}, np.array: a = {a}\")"
   ],
   "id": "ba553e5014d69cba",
   "outputs": [
    {
     "name": "stdout",
     "output_type": "stream",
     "text": [
      "a shape = (1, 5), a = [[0. 0. 0. 0. 0.]]\n",
      "a shape = (2, 1), a = [[0.]\n",
      " [0.]]\n",
      "a shape = (1, 1), a = [[0.04369471]]\n",
      "a shape = (3, 1), np.array: a = [[5]\n",
      " [4]\n",
      " [3]]\n",
      "a shape = (3, 1), np.array: a = [[5]\n",
      " [4]\n",
      " [3]]\n"
     ]
    }
   ],
   "execution_count": 4
  },
  {
   "metadata": {},
   "cell_type": "markdown",
   "source": "### Matrislerle İşlemler",
   "id": "959688130cc8b755"
  },
  {
   "metadata": {
    "ExecuteTime": {
     "end_time": "2024-11-20T07:51:39.778181Z",
     "start_time": "2024-11-20T07:51:39.772947Z"
    }
   },
   "cell_type": "code",
   "source": [
    "a = np.arange(6).reshape(-1, 2)\n",
    "print(f\"a.shape: {a.shape}, \\na= {a}\")\n",
    "print(f\"\\na[2,0].shape:   {a[2, 0].shape}, a[2,0] = {a[2, 0]},     type(a[2,0]) = {type(a[2, 0])} Accessing an element returns a scalar\\n\")\n",
    "print(f\"a[2].shape:   {a[2].shape}, a[2]   = {a[2]}, type(a[2])   = {type(a[2])}\")"
   ],
   "id": "ae400bb1989a572e",
   "outputs": [
    {
     "name": "stdout",
     "output_type": "stream",
     "text": [
      "a.shape: (3, 2), \n",
      "a= [[0 1]\n",
      " [2 3]\n",
      " [4 5]]\n",
      "\n",
      "a[2,0].shape:   (), a[2,0] = 4,     type(a[2,0]) = <class 'numpy.int32'> Accessing an element returns a scalar\n",
      "\n",
      "a[2].shape:   (2,), a[2]   = [4 5], type(a[2])   = <class 'numpy.ndarray'>\n"
     ]
    }
   ],
   "execution_count": 5
  },
  {
   "metadata": {
    "ExecuteTime": {
     "end_time": "2024-11-20T07:56:43.411918Z",
     "start_time": "2024-11-20T07:56:43.403036Z"
    }
   },
   "cell_type": "code",
   "source": [
    "a = np.arange(20).reshape(-1, 10)\n",
    "print(f\"a = \\n{a}\")\n",
    "print(\"a[0, 2:7:1] = \", a[0, 2:7:1], \",  a[0, 2:7:1].shape =\", a[0, 2:7:1].shape, \"a 1-D array\")\n",
    "print(\"a[:, 2:7:1] = \\n\", a[:, 2:7:1], \",  a[:, 2:7:1].shape =\", a[:, 2:7:1].shape, \"a 2-D array\")\n",
    "print(\"a[:,:] = \\n\", a[:,:], \",  a[:,:].shape =\", a[:,:].shape)\n",
    "print(\"a[1,:] = \", a[1,:], \",  a[1,:].shape =\", a[1,:].shape, \"a 1-D array\")\n",
    "print(\"a[1]   = \", a[1],   \",  a[1].shape   =\", a[1].shape, \"a 1-D array\")\n"
   ],
   "id": "4d7d199cb1065974",
   "outputs": [
    {
     "name": "stdout",
     "output_type": "stream",
     "text": [
      "a = \n",
      "[[ 0  1  2  3  4  5  6  7  8  9]\n",
      " [10 11 12 13 14 15 16 17 18 19]]\n",
      "a[0, 2:7:1] =  [2 3 4 5 6] ,  a[0, 2:7:1].shape = (5,) a 1-D array\n",
      "a[:, 2:7:1] = \n",
      " [[ 2  3  4  5  6]\n",
      " [12 13 14 15 16]] ,  a[:, 2:7:1].shape = (2, 5) a 2-D array\n",
      "a[:,:] = \n",
      " [[ 0  1  2  3  4  5  6  7  8  9]\n",
      " [10 11 12 13 14 15 16 17 18 19]] ,  a[:,:].shape = (2, 10)\n",
      "a[1,:] =  [10 11 12 13 14 15 16 17 18 19] ,  a[1,:].shape = (10,) a 1-D array\n",
      "a[1]   =  [10 11 12 13 14 15 16 17 18 19] ,  a[1].shape   = (10,) a 1-D array\n"
     ]
    }
   ],
   "execution_count": 6
  }
 ],
 "metadata": {
  "kernelspec": {
   "display_name": "Python 3",
   "language": "python",
   "name": "python3"
  },
  "language_info": {
   "codemirror_mode": {
    "name": "ipython",
    "version": 2
   },
   "file_extension": ".py",
   "mimetype": "text/x-python",
   "name": "python",
   "nbconvert_exporter": "python",
   "pygments_lexer": "ipython2",
   "version": "2.7.6"
  }
 },
 "nbformat": 4,
 "nbformat_minor": 5
}
