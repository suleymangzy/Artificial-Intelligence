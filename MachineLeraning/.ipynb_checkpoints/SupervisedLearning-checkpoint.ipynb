{
 "cells": [
  {
   "metadata": {},
   "cell_type": "markdown",
   "source": [
    "# What is Supervised Learning ?\n",
    "Denetimli öğrenme makine öğrenmesi yönteminin alt dallarından biridir. Denetimli öğrenme  etiketli veri kümeleri kullanarak model eğitme sürecidir. Etiketli veriler, her girdinin doğru çıktısının bilindiği veri setleridir. Bu tür öğrenmede, model, girdiler ve bunlara karşılık gelen doğru çıktılar arasındaki ilişkiyi öğrenir. Örnek vermek gerekirse elimizde bulunan bir bölgeye ait evlerin boyutlarına bağlı olarak fiyatlarının bulundu bir veri setindedeki girdiler ve çıktılar arasındaki ilşkiyi model öğrenir ve bundan sonra model kendisine sorulacak evlerin boyutlarını girdi olrak kullanrak daha önceki veri setinde bulunan girdi ve çıktılar arasında kurmuş olduğu ilişkiye göre evlerinin fiyatlarının tahminini çıktı olarak kullanır. Ve ya elimizde bulunan veri setindeki girdilerin çıktıları dahilinde bir hastanın tomografi görüntülerinde kitle olup olmadığıyla alakalı bir tahinde bulunulması denetimli öğrenmenin özelliklerindendir."
   ],
   "id": "ae2f691c7ba13e29"
  },
  {
   "metadata": {},
   "cell_type": "markdown",
   "source": [
    " ## Regression\n",
    " Regresyon, sürekli bir değeri tahmin etmek için kullanılır. Amaç, belirli girdiler ile bir sonuç arasındaki ilişkiyi modellemektir.Örneğin, bir evin fiyatını tahmin etmek veya bir ürünün gelecekteki satışlarını öngörmek regresyon görevleridir. Ev satış fiyatı tahmin örneği ile devam edecek olursak ;\n",
    " * Girdiler evlerin boyutu,\n",
    " * Çıktılar evlerin fiyatı olacaktır.\n",
    "  Bu durumda ve fiyat tahmini için lineer regresyon yönteminden faydalanabiliriz. Lineer regresyon yöntemi x ve y eksenlerinden oluşan bir grafik üzerine bira önce bahsetmiş olduğum girdi ve çıktıların işlenmesi doğrultusunda bu değerler arasında bir doğrusal fonksiyon ilişkisi kurmak olarak özetlenebilir.\n",
    " * Doğrusal Fonksiyon\n",
    "    f(x)=mx+n\n",
    " Lineer regresyonu anlatırken doğrusal fonksiyonumuzun parametrelerini w ve b şeklinde kullanacağız;\n",
    "  * f(x)=wx+b şeklinde olacaktır.\n",
    "  \n",
    " "
   ],
   "id": "ac182f2fdbb6bc1b"
  },
  {
   "metadata": {
    "jupyter": {
     "is_executing": true
    },
    "ExecuteTime": {
     "start_time": "2024-10-25T12:35:08.666447Z"
    }
   },
   "cell_type": "code",
   "source": [
    "import numpy as np\n",
    "import pandas as pd\n",
    "import matplotlib.pyplot as plt\n",
    "\n",
    "veriler = pd.read_csv('satislar.csv')\n",
    "print(veriler)\n",
    "boyut = veriler['Boyut']\n",
    "print(boyut)\n",
    "satislar = veriler['Satislar']\n",
    "print(satislar)\n"
   ],
   "id": "666af4e862d1076b",
   "outputs": [
    {
     "name": "stdout",
     "output_type": "stream",
     "text": [
      "    Buyut  Satislar\n",
      "0      75   1200000\n",
      "1     120    900000\n",
      "2      60    800000\n",
      "3     200   2800000\n",
      "4      90    700000\n",
      "5      85    600000\n",
      "6     150   1500000\n",
      "7     110    950000\n",
      "8      70    500000\n",
      "9     140   1700000\n",
      "10    130   1300000\n",
      "11    105    850000\n",
      "12    160   1200000\n",
      "13     45    400000\n",
      "14     90    720000\n",
      "15    125   1250000\n",
      "16    100    920000\n",
      "17    210   2500000\n",
      "18     80    750000\n",
      "19     95   1100000\n",
      "20    140   1600000\n",
      "21     65    580000\n",
      "22    175   2200000\n",
      "23    115   1000000\n",
      "24     90    820000\n",
      "25    120   1350000\n",
      "26    150   1700000\n",
      "27     55    480000\n",
      "28    185   2100000\n",
      "29    130   1450000\n",
      "30    160   2000000\n",
      "31    100   1000000\n",
      "32    120   1100000\n",
      "33     65    590000\n",
      "34    210   3000000\n",
      "35    105    950000\n",
      "36     90    810000\n",
      "37    135   1200000\n",
      "38     70    550000\n",
      "39    150   1800000\n",
      "40     85    720000\n",
      "41    110   1050000\n",
      "42    140   1500000\n",
      "43     60    520000\n",
      "44    195   2700000\n"
     ]
    }
   ],
   "execution_count": null
  }
 ],
 "metadata": {
  "kernelspec": {
   "display_name": "Python 3",
   "language": "python",
   "name": "python3"
  },
  "language_info": {
   "codemirror_mode": {
    "name": "ipython",
    "version": 2
   },
   "file_extension": ".py",
   "mimetype": "text/x-python",
   "name": "python",
   "nbconvert_exporter": "python",
   "pygments_lexer": "ipython2",
   "version": "2.7.6"
  }
 },
 "nbformat": 4,
 "nbformat_minor": 5
}
